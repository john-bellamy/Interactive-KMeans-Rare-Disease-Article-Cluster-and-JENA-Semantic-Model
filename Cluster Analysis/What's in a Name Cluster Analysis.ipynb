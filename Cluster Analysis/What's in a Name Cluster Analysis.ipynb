{
 "cells": [
  {
   "cell_type": "code",
   "execution_count": 1,
   "metadata": {},
   "outputs": [],
   "source": [
    "import numpy as np\n",
    "import pandas as pd\n",
    "from pandas import DataFrame,Series\n",
    "\n",
    "#Preprocessing\n",
    "import nltk\n",
    "import re\n",
    "from  TextCleaner2000.TextCleaner import TextCleaner\n",
    "\n",
    "#Machine  Learning\n",
    "from sklearn.feature_extraction.text import TfidfVectorizer\n",
    "from sklearn.feature_extraction.text import TfidfTransformer\n",
    "from sklearn.pipeline import make_pipeline\n",
    "from sklearn.preprocessing import Normalizer\n",
    "from sklearn.decomposition import TruncatedSVD\n",
    "from sklearn.cluster import KMeans\n",
    "\n",
    "#For interactive cluster\n",
    "from sklearn.metrics.pairwise import cosine_similarity\n",
    "from sklearn.manifold import MDS\n",
    "\n",
    "#Visuals\n",
    "import matplotlib.pyplot as plt\n",
    "import mpld3"
   ]
  },
  {
   "cell_type": "code",
   "execution_count": 2,
   "metadata": {},
   "outputs": [],
   "source": [
    "#Load Data\n",
    "wian_df=pd.read_csv('DATA.IN\\\\SBMA_PYTHON.csv')"
   ]
  },
  {
   "cell_type": "code",
   "execution_count": 6,
   "metadata": {},
   "outputs": [],
   "source": [
    "#Use my stop word remove tool, and to normalize text for the tokens\n",
    "#By Default TextCleaner assumes the TextCleaner folder is in same directory\n",
    "# If this isn't true, pass fully-qualified location of TextCleaner folder as only argument\n",
    "cleaner = TextCleaner()"
   ]
  },
  {
   "cell_type": "code",
   "execution_count": 7,
   "metadata": {},
   "outputs": [],
   "source": [
    "#Remove non-alphanumeric characters and replace with blank\n",
    "clean_list = cleaner.alpha_iterator(wian_df[\"TITLE\"])"
   ]
  },
  {
   "cell_type": "code",
   "execution_count": 8,
   "metadata": {},
   "outputs": [],
   "source": [
    "clean_list_beta= cleaner.stop_word_iterator(clean_list)"
   ]
  },
  {
   "cell_type": "code",
   "execution_count": 9,
   "metadata": {},
   "outputs": [],
   "source": [
    "# here I define a tokenizer and stemmer which returns the set of stems in the text that it is passe\n",
    "\n",
    "def tokenize_only(text):\n",
    "    # first tokenize by sentence, then by word to ensure that punctuation is caught as it's own token\n",
    "    tokens = [word.lower() for sent in nltk.sent_tokenize(text) for word in nltk.word_tokenize(sent)]\n",
    "    filtered_tokens = []\n",
    "    # filter out any tokens not containing letters (e.g., numeric tokens, raw punctuation)\n",
    "    for token in tokens:\n",
    "        if re.search('[a-zA-Z]', token):\n",
    "            filtered_tokens.append(token)\n",
    "    return filtered_tokens"
   ]
  },
  {
   "cell_type": "code",
   "execution_count": 10,
   "metadata": {},
   "outputs": [],
   "source": [
    "#Here, this is where my text cleaner comes in handy: we can pass a custom stop-word list\n",
    "remove_words = ('sbma', 'spinal muscular',\n",
    "                'spinal bulbar', 'spinal', 'muscular','atrophy', 'bulbar','spinal muscular atrophy', \n",
    "                'spinal bulbar muscular atrophy', \"kennedy's\", 'kennedy', 'disease', 'diseases', 'syndrome',\n",
    "                'atrophy', 'kennedy-', 's', 'patient','type','bulbospinal','case','study','clinical','adult','family','patients',\n",
    "                'disorders', 'report','bulbo','mouse','model','spinobulbar','analysis','disorders')"
   ]
  },
  {
   "cell_type": "code",
   "execution_count": 11,
   "metadata": {},
   "outputs": [],
   "source": [
    "#Remove the custom stop-words. We want to know what is in the other 40% of articles, which is not disease name\n",
    "titles = cleaner.custom_stop_word_iterator(clean_list_beta, remove_words)"
   ]
  },
  {
   "cell_type": "code",
   "execution_count": 12,
   "metadata": {},
   "outputs": [
    {
     "name": "stdout",
     "output_type": "stream",
     "text": [
      "Wall time: 246 ms\n",
      "(910, 1315)\n"
     ]
    }
   ],
   "source": [
    "#define vectorizer parameters\n",
    "tfidf_vectorizer = TfidfVectorizer(max_df=0.5, max_features=200000,\n",
    "                                 min_df=2, stop_words='english',\n",
    "                                 use_idf=True, ngram_range=(1,3), tokenizer=tokenize_only)\n",
    "\n",
    "%time tfidf_matrix = tfidf_vectorizer.fit_transform(titles) #fit the vectorizer to synopses\n",
    "\n",
    "print(tfidf_matrix.shape)"
   ]
  },
  {
   "cell_type": "code",
   "execution_count": 13,
   "metadata": {},
   "outputs": [],
   "source": [
    "#We will use these terms to define the words in the clusters\n",
    "terms = tfidf_vectorizer.get_feature_names()"
   ]
  },
  {
   "cell_type": "code",
   "execution_count": 14,
   "metadata": {},
   "outputs": [
    {
     "data": {
      "text/plain": [
       "['aag',\n",
       " 'aberrant',\n",
       " 'abnormal',\n",
       " 'abnormal androgen',\n",
       " 'abnormal androgen receptor',\n",
       " 'abnormalities',\n",
       " 'abnormally',\n",
       " 'absence',\n",
       " 'accelerates',\n",
       " 'accentuates']"
      ]
     },
     "execution_count": 14,
     "metadata": {},
     "output_type": "execute_result"
    }
   ],
   "source": [
    "terms[0:10]"
   ]
  },
  {
   "cell_type": "code",
   "execution_count": 15,
   "metadata": {},
   "outputs": [],
   "source": [
    "\n",
    "# Vectorizer results are normalized, which makes KMeans behave as\n",
    "# spherical k-means for better results. Since LSA/SVD results are\n",
    "# not normalized, we have to redo the normalization.\n",
    "svd = TruncatedSVD(5)\n",
    "normalizer = Normalizer(copy=False)\n",
    "lsa = make_pipeline(svd, normalizer)\n",
    "X = lsa.fit_transform(tfidf_matrix)"
   ]
  },
  {
   "cell_type": "code",
   "execution_count": 16,
   "metadata": {},
   "outputs": [
    {
     "data": {
      "image/png": "[encoded data removed]",
      "text/plain": [
       "<Figure size 432x288 with 1 Axes>"
      ]
     },
     "metadata": {},
     "output_type": "display_data"
    }
   ],
   "source": [
    "distortions=[]\n",
    "for i in range(1,30):\n",
    "    km=KMeans(n_clusters=i,\n",
    "              init='random',\n",
    "             n_init=10,\n",
    "             max_iter=300,\n",
    "             random_state=0)\n",
    "    km.fit(X)\n",
    "    distortions.append(km.inertia_)\n",
    "plt.plot(range(1,30), distortions, marker='o')\n",
    "plt.xlabel('Number of clusters')\n",
    "plt.ylabel('Distortion')\n",
    "plt.show()"
   ]
  },
  {
   "cell_type": "code",
   "execution_count": 101,
   "metadata": {},
   "outputs": [
    {
     "name": "stdout",
     "output_type": "stream",
     "text": [
      "Wall time: 1.69 s\n"
     ]
    }
   ],
   "source": [
    "num_clusters = 8\n",
    "km = KMeans(n_clusters=num_clusters, init='k-means++', n_init=300,random_state=0, max_iter=800)\n",
    "\n",
    "%time km.fit(X)\n",
    "\n",
    "clusters = km.labels_.tolist()"
   ]
  },
  {
   "cell_type": "code",
   "execution_count": 102,
   "metadata": {},
   "outputs": [
    {
     "name": "stdout",
     "output_type": "stream",
     "text": [
      "\n"
     ]
    }
   ],
   "source": [
    "# We need a dissimilarity function to plot the points in the cluster\n",
    "# We pass this function to the MDS algorithm and we get our x and y coordinates for the cluster \n",
    "dist = 1 - cosine_similarity(tfidf_matrix)\n",
    "print()"
   ]
  },
  {
   "cell_type": "code",
   "execution_count": 103,
   "metadata": {},
   "outputs": [
    {
     "name": "stdout",
     "output_type": "stream",
     "text": [
      "\n",
      "\n"
     ]
    }
   ],
   "source": [
    "MDS()\n",
    "# convert two components as we're plotting points in a two-dimensional plane\n",
    "# \"precomputed\" because we provide a distance matrix\n",
    "# we will also specify `random_state` so the plot is reproducible.\n",
    "\n",
    "mds = MDS(n_components=2, dissimilarity=\"precomputed\", random_state=1, metric=True, eps=1e-4, \n",
    "          max_iter = 750, n_init=30, n_jobs = -1)\n",
    "\n",
    "pos = mds.fit_transform(dist)  # shape (n_components, n_samples)\n",
    "\n",
    "xs, ys = pos[:, 0], pos[:, 1]\n",
    "print()\n",
    "print()"
   ]
  },
  {
   "cell_type": "code",
   "execution_count": 104,
   "metadata": {},
   "outputs": [
    {
     "name": "stdout",
     "output_type": "stream",
     "text": [
      "Top terms per cluster:\n",
      "\n",
      "Cluster 0: androgen\n",
      " motor\n",
      " neuron\n",
      " motor neuron\n",
      " receptor\n",
      " androgen receptor\n",
      " kennedys\n",
      " repeat\n",
      " gene\n",
      " polyglutamine\n",
      "Cluster 1: kennedys\n",
      " motor\n",
      " neuron\n",
      " motor neuron\n",
      " xlinked\n",
      " androgen\n",
      " amyotrophic\n",
      " molecular\n",
      " lateral\n",
      " amyotrophic lateral sclerosis\n",
      "Cluster 2: motor\n",
      " motor neuron\n",
      " neuron\n",
      " degeneration\n",
      " molecular\n",
      " kennedys\n",
      " genetics\n",
      " muscle\n",
      " neuron degeneration\n",
      " motor neuron degeneration\n",
      "Cluster 3: xlinked\n",
      " recessive\n",
      " xlinked recessive\n",
      " neuronopathy\n",
      " xlinked recessive neuronopathy\n",
      " recessive neuronopathy\n",
      " kennedys\n",
      " xlinked neuronopathy\n",
      " sensory\n",
      " neuropathy\n",
      "Cluster 4: lateral sclerosis\n",
      " amyotrophic lateral\n",
      " amyotrophic lateral sclerosis\n",
      " sclerosis\n",
      " amyotrophic\n",
      " lateral\n",
      " motor\n",
      " xlinked\n",
      " diagnosis\n",
      " cortical\n",
      "Cluster 5: kennedys\n",
      " xlinked\n",
      " xlinked kennedys\n",
      " features\n",
      " muscle\n",
      " molecular\n",
      " diagnosis\n",
      " review\n",
      " cognitive\n",
      " involvement\n",
      "Cluster 6: androgen\n",
      " receptor\n",
      " androgen receptor\n",
      " gene\n",
      " receptor gene\n",
      " androgen receptor gene\n",
      " repeat\n",
      " cag\n",
      " polyglutamine\n",
      " cag repeat\n",
      "Cluster 7: androgen\n",
      " receptor\n",
      " androgen receptor\n",
      " kennedys\n",
      " gene\n",
      " repeat\n",
      " androgen receptor gene\n",
      " receptor gene\n",
      " cag\n",
      " xlinked\n"
     ]
    }
   ],
   "source": [
    "# This gives us the words that are in each cluster\n",
    "\n",
    "print(\"Top terms per cluster:\")\n",
    "print()\n",
    "# sort cluster centers by proximity to centroid\n",
    "# The centroids were transformed earlier. We need to transform back to original state from TFIDF\n",
    "original_space_centroids = svd.inverse_transform(km.cluster_centers_)\n",
    "order_centroids = original_space_centroids.argsort()[:, ::-1]\n",
    "\n",
    "for i in range(num_clusters):\n",
    "        print(\"Cluster %d:\" % i, end='')\n",
    "        for ind in order_centroids[i, :10]:\n",
    "            print(' %s' % terms[ind], end='')\n",
    "            print()"
   ]
  },
  {
   "cell_type": "code",
   "execution_count": 105,
   "metadata": {},
   "outputs": [],
   "source": [
    "cluster_names = {0: 'Polyglutamine Disease',\n",
    "                 1: 'Molecular', \n",
    "                 2: 'X-Linked Recessive/Bulbo', \n",
    "                 3: 'Motor Neuron',\n",
    "                 4:'Amyotrophic Lateral Sclerosis', \n",
    "                 5:'X-linked', \n",
    "                 6:'Androgen Receptor, CAG/Trinucleotide Repeat',\n",
    "                 7:'CAG/Trinucleotide Repeat'\n",
    "                }"
   ]
  },
  {
   "cell_type": "code",
   "execution_count": 106,
   "metadata": {},
   "outputs": [],
   "source": [
    "#define custom toolbar location\n",
    "class TopToolbar(mpld3.plugins.PluginBase):\n",
    "    \"\"\"Plugin for moving toolbar to top of figure\"\"\"\n",
    "\n",
    "    JAVASCRIPT = \"\"\"\n",
    "    mpld3.register_plugin(\"toptoolbar\", TopToolbar);\n",
    "    TopToolbar.prototype = Object.create(mpld3.Plugin.prototype);\n",
    "    TopToolbar.prototype.constructor = TopToolbar;\n",
    "    function TopToolbar(fig, props){\n",
    "        mpld3.Plugin.call(this, fig, props);\n",
    "    };\n",
    "\n",
    "    TopToolbar.prototype.draw = function(){\n",
    "      // the toolbar svg doesn't exist\n",
    "      // yet, so first draw it\n",
    "      this.fig.toolbar.draw();\n",
    "\n",
    "      // then change the y position to be\n",
    "      // at the top of the figure\n",
    "      this.fig.toolbar.toolbar.attr(\"x\", 150);\n",
    "      this.fig.toolbar.toolbar.attr(\"y\", 400);\n",
    "\n",
    "      // then remove the draw function,\n",
    "      // so that it is not called again\n",
    "      this.fig.toolbar.draw = function() {}\n",
    "    }\n",
    "    \"\"\"\n",
    "    def __init__(self):\n",
    "        self.dict_ = {\"type\": \"toptoolbar\"}\n"
   ]
  },
  {
   "cell_type": "code",
   "execution_count": 107,
   "metadata": {},
   "outputs": [
    {
     "name": "stderr",
     "output_type": "stream",
     "text": [
      "C:\\Users\\johnb\\Anaconda3\\lib\\site-packages\\ipykernel_launcher.py:33: MatplotlibDeprecationWarning: The set_color_cycle function was deprecated in version 1.5. Use `.set_prop_cycle` instead.\n"
     ]
    },
    {
     "data": {
      "image/png": "[encoded data removed]",
      "text/plain": [
       "<Figure size 1080x1080 with 2 Axes>"
      ]
     },
     "metadata": {},
     "output_type": "display_data"
    }
   ],
   "source": [
    "#create data frame that has the result of the MDS plus the cluster numbers and titles\n",
    "df = pd.DataFrame(dict(x=xs, y=ys, label=clusters, title=wian_df[\"TITLE\"]) )\n",
    "\n",
    "#group by cluster\n",
    "groups = df.groupby('label')\n",
    "\n",
    "#define custom css to format the font and to remove the axis labeling\n",
    "css = \"\"\"\n",
    "text.mpld3-text, div.mpld3-tooltip {\n",
    "  font-family:Arial, Helvetica, sans-serif;\n",
    "}\n",
    "background.mlpd3-background{\n",
    "\n",
    "    background-color:black;\n",
    "}\n",
    "g.mpld3-xaxis, g.mpld3-yaxis {\n",
    "display: none; }\n",
    "\n",
    "svg.mpld3-figure {\n",
    "margin-left: -50px;\n",
    "margin-right: 50px;}\n",
    "\"\"\"\n",
    "\n",
    "NUM_COLORS =num_clusters\n",
    "\n",
    "cm = plt.get_cmap('hsv') #hsv\n",
    "# set up plot\n",
    "\n",
    "fig, ax = plt.subplots(figsize=(15,15), sharex=True, sharey=True) # set size\n",
    "ax = fig.add_subplot(111)\n",
    "ax.margins(0.15) #ptional, just adds 5% padding to the autoscaling\n",
    "\n",
    "ax.set_color_cycle([cm(i/NUM_COLORS) for i in range(NUM_COLORS)])\n",
    "\n",
    "#1.*i/NUM_COLORS)\n",
    "#iterate through groups to layer the plot\n",
    "#note that I use the cluster_name and cluster_color dicts with the 'name' lookup to return the appropriate color/label\n",
    "for name, group in groups:\n",
    "    points = ax.plot(group.x, group.y, marker='s', ms=18\n",
    "                     ,linestyle='',\n",
    "                     label=cluster_names[name], linewidth=.20)\n",
    "    ax.set_aspect('auto')\n",
    "    labels = [i for i in group.title]\n",
    "    \n",
    "    #set tooltip using points, labels and the already defined 'css'\n",
    "    tooltip = mpld3.plugins.PointHTMLTooltip(points[0], labels,voffset=40, hoffset=45,\n",
    "                                        css=css) #\n",
    "\n",
    "    #connect tooltip to fig\n",
    "    mpld3.plugins.connect(fig, tooltip, TopToolbar())    \n",
    "    \n",
    "    #set tick marks as blank\n",
    "    ax.axes.get_xaxis().set_ticks([])\n",
    "    ax.axes.get_yaxis().set_ticks([])\n",
    "    \n",
    "    #set axis as blank\n",
    "    ax.axes.get_xaxis().set_visible(True)\n",
    "    ax.axes.get_yaxis().set_visible(True)\n",
    "\n",
    "ax.legend(numpoints=1,loc=\"lower right\") #show legend with only one dot\n",
    "\n",
    "plt.title(\"SBMA TDF-IDF K-Means Cluster. Tip: With tools in upper-left, you can move the graph and zoom; to return to original view click the 'home' button.\")\n",
    "\n",
    "\n",
    "\n",
    "#mpld3.enable_notebook()\n",
    "#uncomment the below to export to html\n",
    "#html = mpld3.fig_to_html(fig)\n",
    "mpld3.save_html(fig,\"sbma.html\")"
   ]
  },
  {
   "cell_type": "code",
   "execution_count": null,
   "metadata": {},
   "outputs": [],
   "source": []
  },
  {
   "cell_type": "code",
   "execution_count": null,
   "metadata": {},
   "outputs": [],
   "source": []
  }
 ],
 "metadata": {
  "kernelspec": {
   "display_name": "Python 3",
   "language": "python",
   "name": "python3"
  },
  "language_info": {
   "codemirror_mode": {
    "name": "ipython",
    "version": 3
   },
   "file_extension": ".py",
   "mimetype": "text/x-python",
   "name": "python",
   "nbconvert_exporter": "python",
   "pygments_lexer": "ipython3",
   "version": "3.6.4"
  }
 },
 "nbformat": 4,
 "nbformat_minor": 1
}
